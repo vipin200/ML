{
 "cells": [
  {
   "cell_type": "code",
   "execution_count": 35,
   "metadata": {},
   "outputs": [],
   "source": [
    "import numpy as np\n",
    "import pandas as pd\n",
    "import random\n",
    "import matplotlib.pyplot as plt"
   ]
  },
  {
   "cell_type": "code",
   "execution_count": 36,
   "metadata": {},
   "outputs": [
    {
     "data": {
      "text/html": [
       "<div>\n",
       "<style scoped>\n",
       "    .dataframe tbody tr th:only-of-type {\n",
       "        vertical-align: middle;\n",
       "    }\n",
       "\n",
       "    .dataframe tbody tr th {\n",
       "        vertical-align: top;\n",
       "    }\n",
       "\n",
       "    .dataframe thead th {\n",
       "        text-align: right;\n",
       "    }\n",
       "</style>\n",
       "<table border=\"1\" class=\"dataframe\">\n",
       "  <thead>\n",
       "    <tr style=\"text-align: right;\">\n",
       "      <th></th>\n",
       "      <th>Gender</th>\n",
       "      <th>Age Range</th>\n",
       "      <th>Head Size(cm^3)</th>\n",
       "      <th>Brain Weight(grams)</th>\n",
       "    </tr>\n",
       "  </thead>\n",
       "  <tbody>\n",
       "    <tr>\n",
       "      <td>0</td>\n",
       "      <td>1</td>\n",
       "      <td>1</td>\n",
       "      <td>4512</td>\n",
       "      <td>1530</td>\n",
       "    </tr>\n",
       "    <tr>\n",
       "      <td>1</td>\n",
       "      <td>1</td>\n",
       "      <td>1</td>\n",
       "      <td>3738</td>\n",
       "      <td>1297</td>\n",
       "    </tr>\n",
       "    <tr>\n",
       "      <td>2</td>\n",
       "      <td>1</td>\n",
       "      <td>1</td>\n",
       "      <td>4261</td>\n",
       "      <td>1335</td>\n",
       "    </tr>\n",
       "    <tr>\n",
       "      <td>3</td>\n",
       "      <td>1</td>\n",
       "      <td>1</td>\n",
       "      <td>3777</td>\n",
       "      <td>1282</td>\n",
       "    </tr>\n",
       "    <tr>\n",
       "      <td>4</td>\n",
       "      <td>1</td>\n",
       "      <td>1</td>\n",
       "      <td>4177</td>\n",
       "      <td>1590</td>\n",
       "    </tr>\n",
       "  </tbody>\n",
       "</table>\n",
       "</div>"
      ],
      "text/plain": [
       "   Gender  Age Range  Head Size(cm^3)  Brain Weight(grams)\n",
       "0       1          1             4512                 1530\n",
       "1       1          1             3738                 1297\n",
       "2       1          1             4261                 1335\n",
       "3       1          1             3777                 1282\n",
       "4       1          1             4177                 1590"
      ]
     },
     "execution_count": 36,
     "metadata": {},
     "output_type": "execute_result"
    }
   ],
   "source": [
    "df = pd.read_csv('headbrain.csv')\n",
    "df.head()"
   ]
  },
  {
   "cell_type": "code",
   "execution_count": 37,
   "metadata": {},
   "outputs": [
    {
     "data": {
      "text/plain": [
       "numpy.ndarray"
      ]
     },
     "execution_count": 37,
     "metadata": {},
     "output_type": "execute_result"
    }
   ],
   "source": [
    "from sklearn.preprocessing import MinMaxScaler\n",
    "scaler = MinMaxScaler()\n",
    "df = scaler.fit_transform(df)\n",
    "type(df)"
   ]
  },
  {
   "cell_type": "code",
   "execution_count": 38,
   "metadata": {},
   "outputs": [],
   "source": [
    "X = df[:, 2]\n",
    "y = df[:, -1]"
   ]
  },
  {
   "cell_type": "code",
   "execution_count": 39,
   "metadata": {},
   "outputs": [
    {
     "name": "stdout",
     "output_type": "stream",
     "text": [
      "[0.16674889 0.49531327 0.46077948 0.6822891  0.21953626 0.64232856\n",
      " 0.70942279 0.46817958 0.57128762 0.23828318 0.3078441  0.2150962\n",
      " 0.71090281 0.42723236 0.44055254 0.48692649 0.35668476 0.73211643\n",
      " 0.50715343 0.69116922 0.48544647 0.58164776 0.4647262  0.27824371\n",
      " 1.         0.         0.41736556 0.47360631 0.5821411  0.28712383\n",
      " 0.24568328 0.71336951 0.31475086 0.22200296 0.63394179 0.26985693\n",
      " 0.59003453 0.3127775  0.38085841 0.78342378 0.38628515 0.52836704\n",
      " 0.47952639 0.41983226 0.46423286 0.35323138 0.29057721 0.36211149\n",
      " 0.33596448 0.13270844 0.61272817 0.4227923  0.52639369 0.38727183\n",
      " 0.17316231 0.84361125 0.20966946 0.31179082 0.64923532 0.4573261\n",
      " 0.84953133 0.36063148 0.55796744 0.38431179 0.73014307 0.56536754\n",
      " 0.07104095 0.47804637 0.25061667 0.58559447 0.56388752 0.55895412\n",
      " 0.17118895 0.425259   0.5772077  0.38233843 0.45584608 0.45781944\n",
      " 0.63542181 0.65959546 0.02614702 0.24370992 0.3300444  0.32708436\n",
      " 0.38332511 0.53971386 0.17858905 0.44153922 0.26048347 0.30291071\n",
      " 0.33201776 0.22446966 0.84065121 0.47607301 0.54464726 0.33645782\n",
      " 0.2224963  0.27084361 0.58164776 0.10705476 0.62802171 0.71040947\n",
      " 0.43117908 0.25949679 0.62259497 0.48495313 0.47705969 0.84015787\n",
      " 0.17217563 0.54958066 0.78687716 0.59694129 0.36803157 0.45436606\n",
      " 0.5476073  0.6576221  0.3325111  0.48840651 0.18944253 0.42871238\n",
      " 0.50222003 0.33103108 0.44104588 0.39664529 0.41341885 0.42427232\n",
      " 0.39960533 0.28219043 0.7602368  0.48347311 0.49679329 0.32609768\n",
      " 0.21608288 0.3325111  0.50320671 0.52392699 0.62111495 0.37148495\n",
      " 0.6625555  0.52146029 0.52935372 0.71879625 0.46669956 0.34188456\n",
      " 0.29501727 0.27577701 0.54859398 0.53428712 0.37444499 0.3349778\n",
      " 0.64824864 0.88406512 0.49136655 0.57030094 0.19930932 0.4548594\n",
      " 0.41391219 0.75629008 0.449926   0.57770104 0.18253577 0.50074001\n",
      " 0.18500247 0.84361125 0.57030094]\n"
     ]
    }
   ],
   "source": [
    "from sklearn.model_selection import train_test_split\n",
    "X_train, X_test, y_train, y_test = train_test_split(X, y, test_size=0.3)\n",
    "# X_train.shape\n",
    "print(X_train)"
   ]
  },
  {
   "cell_type": "code",
   "execution_count": 40,
   "metadata": {},
   "outputs": [
    {
     "name": "stdout",
     "output_type": "stream",
     "text": [
      "[[1.         0.16674889]\n",
      " [1.         0.49531327]\n",
      " [1.         0.46077948]\n",
      " [1.         0.6822891 ]\n",
      " [1.         0.21953626]\n",
      " [1.         0.64232856]\n",
      " [1.         0.70942279]\n",
      " [1.         0.46817958]\n",
      " [1.         0.57128762]\n",
      " [1.         0.23828318]\n",
      " [1.         0.3078441 ]\n",
      " [1.         0.2150962 ]\n",
      " [1.         0.71090281]\n",
      " [1.         0.42723236]\n",
      " [1.         0.44055254]\n",
      " [1.         0.48692649]\n",
      " [1.         0.35668476]\n",
      " [1.         0.73211643]\n",
      " [1.         0.50715343]\n",
      " [1.         0.69116922]\n",
      " [1.         0.48544647]\n",
      " [1.         0.58164776]\n",
      " [1.         0.4647262 ]\n",
      " [1.         0.27824371]\n",
      " [1.         1.        ]\n",
      " [1.         0.        ]\n",
      " [1.         0.41736556]\n",
      " [1.         0.47360631]\n",
      " [1.         0.5821411 ]\n",
      " [1.         0.28712383]\n",
      " [1.         0.24568328]\n",
      " [1.         0.71336951]\n",
      " [1.         0.31475086]\n",
      " [1.         0.22200296]\n",
      " [1.         0.63394179]\n",
      " [1.         0.26985693]\n",
      " [1.         0.59003453]\n",
      " [1.         0.3127775 ]\n",
      " [1.         0.38085841]\n",
      " [1.         0.78342378]\n",
      " [1.         0.38628515]\n",
      " [1.         0.52836704]\n",
      " [1.         0.47952639]\n",
      " [1.         0.41983226]\n",
      " [1.         0.46423286]\n",
      " [1.         0.35323138]\n",
      " [1.         0.29057721]\n",
      " [1.         0.36211149]\n",
      " [1.         0.33596448]\n",
      " [1.         0.13270844]\n",
      " [1.         0.61272817]\n",
      " [1.         0.4227923 ]\n",
      " [1.         0.52639369]\n",
      " [1.         0.38727183]\n",
      " [1.         0.17316231]\n",
      " [1.         0.84361125]\n",
      " [1.         0.20966946]\n",
      " [1.         0.31179082]\n",
      " [1.         0.64923532]\n",
      " [1.         0.4573261 ]\n",
      " [1.         0.84953133]\n",
      " [1.         0.36063148]\n",
      " [1.         0.55796744]\n",
      " [1.         0.38431179]\n",
      " [1.         0.73014307]\n",
      " [1.         0.56536754]\n",
      " [1.         0.07104095]\n",
      " [1.         0.47804637]\n",
      " [1.         0.25061667]\n",
      " [1.         0.58559447]\n",
      " [1.         0.56388752]\n",
      " [1.         0.55895412]\n",
      " [1.         0.17118895]\n",
      " [1.         0.425259  ]\n",
      " [1.         0.5772077 ]\n",
      " [1.         0.38233843]\n",
      " [1.         0.45584608]\n",
      " [1.         0.45781944]\n",
      " [1.         0.63542181]\n",
      " [1.         0.65959546]\n",
      " [1.         0.02614702]\n",
      " [1.         0.24370992]\n",
      " [1.         0.3300444 ]\n",
      " [1.         0.32708436]\n",
      " [1.         0.38332511]\n",
      " [1.         0.53971386]\n",
      " [1.         0.17858905]\n",
      " [1.         0.44153922]\n",
      " [1.         0.26048347]\n",
      " [1.         0.30291071]\n",
      " [1.         0.33201776]\n",
      " [1.         0.22446966]\n",
      " [1.         0.84065121]\n",
      " [1.         0.47607301]\n",
      " [1.         0.54464726]\n",
      " [1.         0.33645782]\n",
      " [1.         0.2224963 ]\n",
      " [1.         0.27084361]\n",
      " [1.         0.58164776]\n",
      " [1.         0.10705476]\n",
      " [1.         0.62802171]\n",
      " [1.         0.71040947]\n",
      " [1.         0.43117908]\n",
      " [1.         0.25949679]\n",
      " [1.         0.62259497]\n",
      " [1.         0.48495313]\n",
      " [1.         0.47705969]\n",
      " [1.         0.84015787]\n",
      " [1.         0.17217563]\n",
      " [1.         0.54958066]\n",
      " [1.         0.78687716]\n",
      " [1.         0.59694129]\n",
      " [1.         0.36803157]\n",
      " [1.         0.45436606]\n",
      " [1.         0.5476073 ]\n",
      " [1.         0.6576221 ]\n",
      " [1.         0.3325111 ]\n",
      " [1.         0.48840651]\n",
      " [1.         0.18944253]\n",
      " [1.         0.42871238]\n",
      " [1.         0.50222003]\n",
      " [1.         0.33103108]\n",
      " [1.         0.44104588]\n",
      " [1.         0.39664529]\n",
      " [1.         0.41341885]\n",
      " [1.         0.42427232]\n",
      " [1.         0.39960533]\n",
      " [1.         0.28219043]\n",
      " [1.         0.7602368 ]\n",
      " [1.         0.48347311]\n",
      " [1.         0.49679329]\n",
      " [1.         0.32609768]\n",
      " [1.         0.21608288]\n",
      " [1.         0.3325111 ]\n",
      " [1.         0.50320671]\n",
      " [1.         0.52392699]\n",
      " [1.         0.62111495]\n",
      " [1.         0.37148495]\n",
      " [1.         0.6625555 ]\n",
      " [1.         0.52146029]\n",
      " [1.         0.52935372]\n",
      " [1.         0.71879625]\n",
      " [1.         0.46669956]\n",
      " [1.         0.34188456]\n",
      " [1.         0.29501727]\n",
      " [1.         0.27577701]\n",
      " [1.         0.54859398]\n",
      " [1.         0.53428712]\n",
      " [1.         0.37444499]\n",
      " [1.         0.3349778 ]\n",
      " [1.         0.64824864]\n",
      " [1.         0.88406512]\n",
      " [1.         0.49136655]\n",
      " [1.         0.57030094]\n",
      " [1.         0.19930932]\n",
      " [1.         0.4548594 ]\n",
      " [1.         0.41391219]\n",
      " [1.         0.75629008]\n",
      " [1.         0.449926  ]\n",
      " [1.         0.57770104]\n",
      " [1.         0.18253577]\n",
      " [1.         0.50074001]\n",
      " [1.         0.18500247]\n",
      " [1.         0.84361125]\n",
      " [1.         0.57030094]]\n"
     ]
    }
   ],
   "source": [
    "X_train = np.c_[np.ones((len(X_train), 1), dtype='int'), X_train]\n",
    "X_test = np.c_[np.ones((len(X_test), 1), dtype='int'), X_test]\n",
    "print(X_train)"
   ]
  },
  {
   "cell_type": "code",
   "execution_count": 41,
   "metadata": {},
   "outputs": [],
   "source": [
    "def cost_func(theta, X, y):\n",
    "    m = len(X)\n",
    "    pred = X.dot(theta)\n",
    "    cost = (1/m) * np.sum(np.square(pred - y))\n",
    "    return cost**(1/2)"
   ]
  },
  {
   "cell_type": "code",
   "execution_count": 42,
   "metadata": {},
   "outputs": [],
   "source": [
    "def gradientDescent(X_train, X_test, y_train, y_test, alpha, epochs):\n",
    "    m = len(y_train)\n",
    "    theta = np.zeros(X_train.shape[1]).T\n",
    "    print(theta)\n",
    "    rmse_train = np.empty(epochs)\n",
    "    rmse_test = np.empty(epochs)\n",
    "    it = np.arange(epochs)\n",
    "    for i in range(epochs):\n",
    "        pred = np.dot(X_train, theta)\n",
    "        theta = theta - (1 / m) * alpha * (X_train.T.dot((pred - y_train)))\n",
    "        rmse_train[i] = cost_func(theta, X_train, y_train)\n",
    "        rmse_test[i] = cost_func(theta, X_test, y_test)\n",
    "    plt.plot(it, rmse_train, c='red', label='Training RMSE')\n",
    "    plt.plot(it, rmse_test, c='green', label='Testing RMSE')\n",
    "    plt.xlabel('Epochs')\n",
    "    plt.ylabel('RMSE')\n",
    "    plt.legend()\n",
    "    plt.show()\n",
    "    print(theta)\n",
    "    return theta, rmse_train, rmse_test"
   ]
  },
  {
   "cell_type": "code",
   "execution_count": 43,
   "metadata": {},
   "outputs": [
    {
     "name": "stdout",
     "output_type": "stream",
     "text": [
      "[0. 0.]\n"
     ]
    },
    {
     "data": {
      "image/png": "[encoded data removed]",
      "text/plain": [
       "<Figure size 432x288 with 1 Axes>"
      ]
     },
     "metadata": {
      "needs_background": "light"
     },
     "output_type": "display_data"
    },
    {
     "name": "stdout",
     "output_type": "stream",
     "text": [
      "[0.1408238  0.75996093]\n"
     ]
    }
   ],
   "source": [
    "theta, rmse_train, rmse_test = gradientDescent(X_train, X_test, y_train, y_test, 0.01, 10000)"
   ]
  },
  {
   "cell_type": "code",
   "execution_count": 44,
   "metadata": {},
   "outputs": [],
   "source": [
    "X_train = X_train[:, 1]\n"
   ]
  },
  {
   "cell_type": "code",
   "execution_count": 45,
   "metadata": {},
   "outputs": [
    {
     "data": {
      "text/plain": [
       "(array([0.1408238 , 0.75996093]),\n",
       " array([0.51121038, 0.50556093, 0.49998582, ..., 0.10244914, 0.10244902,\n",
       "        0.10244889]))"
      ]
     },
     "execution_count": 45,
     "metadata": {},
     "output_type": "execute_result"
    }
   ],
   "source": [
    "theta, rmse_train"
   ]
  },
  {
   "cell_type": "code",
   "execution_count": 46,
   "metadata": {},
   "outputs": [
    {
     "ename": "LinAlgError",
     "evalue": "1-dimensional array given. Array must be at least two-dimensional",
     "output_type": "error",
     "traceback": [
      "\u001b[1;31m---------------------------------------------------------------------------\u001b[0m",
      "\u001b[1;31mLinAlgError\u001b[0m                               Traceback (most recent call last)",
      "\u001b[1;32m<ipython-input-46-ce8c999199a4>\u001b[0m in \u001b[0;36m<module>\u001b[1;34m\u001b[0m\n\u001b[0;32m      1\u001b[0m \u001b[1;32mfrom\u001b[0m \u001b[0mnumpy\u001b[0m\u001b[1;33m.\u001b[0m\u001b[0mlinalg\u001b[0m \u001b[1;32mimport\u001b[0m \u001b[0mpinv\u001b[0m\u001b[1;33m\u001b[0m\u001b[1;33m\u001b[0m\u001b[0m\n\u001b[1;32m----> 2\u001b[1;33m \u001b[0mQ\u001b[0m \u001b[1;33m=\u001b[0m \u001b[0my\u001b[0m \u001b[1;33m@\u001b[0m \u001b[0mpinv\u001b[0m\u001b[1;33m(\u001b[0m\u001b[0mX\u001b[0m\u001b[1;33m)\u001b[0m\u001b[1;33m\u001b[0m\u001b[1;33m\u001b[0m\u001b[0m\n\u001b[0m",
      "\u001b[1;32mC:\\ProgramData\\Anaconda3\\lib\\site-packages\\numpy\\linalg\\linalg.py\u001b[0m in \u001b[0;36mpinv\u001b[1;34m(a, rcond)\u001b[0m\n\u001b[0;32m   1936\u001b[0m         \u001b[1;32mreturn\u001b[0m \u001b[0mwrap\u001b[0m\u001b[1;33m(\u001b[0m\u001b[0mres\u001b[0m\u001b[1;33m)\u001b[0m\u001b[1;33m\u001b[0m\u001b[1;33m\u001b[0m\u001b[0m\n\u001b[0;32m   1937\u001b[0m     \u001b[0ma\u001b[0m \u001b[1;33m=\u001b[0m \u001b[0ma\u001b[0m\u001b[1;33m.\u001b[0m\u001b[0mconjugate\u001b[0m\u001b[1;33m(\u001b[0m\u001b[1;33m)\u001b[0m\u001b[1;33m\u001b[0m\u001b[1;33m\u001b[0m\u001b[0m\n\u001b[1;32m-> 1938\u001b[1;33m     \u001b[0mu\u001b[0m\u001b[1;33m,\u001b[0m \u001b[0ms\u001b[0m\u001b[1;33m,\u001b[0m \u001b[0mvt\u001b[0m \u001b[1;33m=\u001b[0m \u001b[0msvd\u001b[0m\u001b[1;33m(\u001b[0m\u001b[0ma\u001b[0m\u001b[1;33m,\u001b[0m \u001b[0mfull_matrices\u001b[0m\u001b[1;33m=\u001b[0m\u001b[1;32mFalse\u001b[0m\u001b[1;33m)\u001b[0m\u001b[1;33m\u001b[0m\u001b[1;33m\u001b[0m\u001b[0m\n\u001b[0m\u001b[0;32m   1939\u001b[0m \u001b[1;33m\u001b[0m\u001b[0m\n\u001b[0;32m   1940\u001b[0m     \u001b[1;31m# discard small singular values\u001b[0m\u001b[1;33m\u001b[0m\u001b[1;33m\u001b[0m\u001b[1;33m\u001b[0m\u001b[0m\n",
      "\u001b[1;32mC:\\ProgramData\\Anaconda3\\lib\\site-packages\\numpy\\linalg\\linalg.py\u001b[0m in \u001b[0;36msvd\u001b[1;34m(a, full_matrices, compute_uv)\u001b[0m\n\u001b[0;32m   1591\u001b[0m     \"\"\"\n\u001b[0;32m   1592\u001b[0m     \u001b[0ma\u001b[0m\u001b[1;33m,\u001b[0m \u001b[0mwrap\u001b[0m \u001b[1;33m=\u001b[0m \u001b[0m_makearray\u001b[0m\u001b[1;33m(\u001b[0m\u001b[0ma\u001b[0m\u001b[1;33m)\u001b[0m\u001b[1;33m\u001b[0m\u001b[1;33m\u001b[0m\u001b[0m\n\u001b[1;32m-> 1593\u001b[1;33m     \u001b[0m_assertRankAtLeast2\u001b[0m\u001b[1;33m(\u001b[0m\u001b[0ma\u001b[0m\u001b[1;33m)\u001b[0m\u001b[1;33m\u001b[0m\u001b[1;33m\u001b[0m\u001b[0m\n\u001b[0m\u001b[0;32m   1594\u001b[0m     \u001b[0mt\u001b[0m\u001b[1;33m,\u001b[0m \u001b[0mresult_t\u001b[0m \u001b[1;33m=\u001b[0m \u001b[0m_commonType\u001b[0m\u001b[1;33m(\u001b[0m\u001b[0ma\u001b[0m\u001b[1;33m)\u001b[0m\u001b[1;33m\u001b[0m\u001b[1;33m\u001b[0m\u001b[0m\n\u001b[0;32m   1595\u001b[0m \u001b[1;33m\u001b[0m\u001b[0m\n",
      "\u001b[1;32mC:\\ProgramData\\Anaconda3\\lib\\site-packages\\numpy\\linalg\\linalg.py\u001b[0m in \u001b[0;36m_assertRankAtLeast2\u001b[1;34m(*arrays)\u001b[0m\n\u001b[0;32m    205\u001b[0m         \u001b[1;32mif\u001b[0m \u001b[0ma\u001b[0m\u001b[1;33m.\u001b[0m\u001b[0mndim\u001b[0m \u001b[1;33m<\u001b[0m \u001b[1;36m2\u001b[0m\u001b[1;33m:\u001b[0m\u001b[1;33m\u001b[0m\u001b[1;33m\u001b[0m\u001b[0m\n\u001b[0;32m    206\u001b[0m             raise LinAlgError('%d-dimensional array given. Array must be '\n\u001b[1;32m--> 207\u001b[1;33m                     'at least two-dimensional' % a.ndim)\n\u001b[0m\u001b[0;32m    208\u001b[0m \u001b[1;33m\u001b[0m\u001b[0m\n\u001b[0;32m    209\u001b[0m \u001b[1;32mdef\u001b[0m \u001b[0m_assertNdSquareness\u001b[0m\u001b[1;33m(\u001b[0m\u001b[1;33m*\u001b[0m\u001b[0marrays\u001b[0m\u001b[1;33m)\u001b[0m\u001b[1;33m:\u001b[0m\u001b[1;33m\u001b[0m\u001b[1;33m\u001b[0m\u001b[0m\n",
      "\u001b[1;31mLinAlgError\u001b[0m: 1-dimensional array given. Array must be at least two-dimensional"
     ]
    }
   ],
   "source": [
    "from numpy.linalg import pinv\n",
    "Q = y @ pinv(X)"
   ]
  },
  {
   "cell_type": "code",
   "execution_count": null,
   "metadata": {},
   "outputs": [],
   "source": [
    "plt.scatter(X_train, y_train)\n",
    "y_pred = theta[0] + theta[1] * X_train\n",
    "plt.plot(X_train, y_pred, color='r', label='Gradient Descent', c='red')\n",
    "plt.xlabel('Head Size(cm^3)')\n",
    "plt.ylabel('Brain Weight(grams)')\n",
    "plt.legend()\n",
    "plt.show()"
   ]
  },
  {
   "cell_type": "code",
   "execution_count": null,
   "metadata": {},
   "outputs": [],
   "source": []
  }
 ],
 "metadata": {
  "file_extension": ".py",
  "kernelspec": {
   "display_name": "Python 3",
   "language": "python",
   "name": "python3"
  },
  "language_info": {
   "codemirror_mode": {
    "name": "ipython",
    "version": 3
   },
   "file_extension": ".py",
   "mimetype": "text/x-python",
   "name": "python",
   "nbconvert_exporter": "python",
   "pygments_lexer": "ipython3",
   "version": "3.7.4"
  },
  "mimetype": "text/x-python",
  "name": "python",
  "npconvert_exporter": "python",
  "pygments_lexer": "ipython3",
  "version": 3
 },
 "nbformat": 4,
 "nbformat_minor": 2
}
