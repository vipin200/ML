{
 "cells": [
  {
   "cell_type": "code",
   "execution_count": 9,
   "metadata": {
    "pycharm": {
     "is_executing": true
    }
   },
   "outputs": [],
   "source": [
    "import numpy as np\n",
    "import pandas as pd\n",
    "import matplotlib.pyplot as plt\n",
    "from sklearn.model_selection import train_test_split\n",
    "from sklearn.datasets import load_breast_cancer"
   ]
  },
  {
   "cell_type": "code",
   "execution_count": 10,
   "metadata": {},
   "outputs": [],
   "source": [
    "def normalize(X):\n",
    "    X = (X - np.min(X)) / (np.max(X) - np.min(X))\n",
    "    return X"
   ]
  },
  {
   "cell_type": "code",
   "execution_count": 11,
   "metadata": {},
   "outputs": [],
   "source": [
    "dataset = load_breast_cancer()\n",
    "X = dataset.data\n",
    "Y = dataset.target\n",
    "for i in range(X.shape[1]):\n",
    "    X[:,i] = normalize(X[:,i])\n",
    "X = np.concatenate((np.ones((len(X),1)),X),axis=1)"
   ]
  },
  {
   "cell_type": "code",
   "execution_count": 12,
   "metadata": {},
   "outputs": [],
   "source": [
    "from sklearn.model_selection import train_test_split\n",
    "X_train, X_test, Y_train, Y_test = train_test_split(X, Y, test_size=0.3, random_state=1)"
   ]
  },
  {
   "cell_type": "code",
   "execution_count": 13,
   "metadata": {},
   "outputs": [],
   "source": [
    "def sigmoid(z):\n",
    "    return 1/(1+np.exp(-z))\n",
    "\n",
    "def calculate_cost(Y,Y_pred,m):\n",
    "    return ((-1/m) * ((Y.T @ np.log(Y_pred)) + ((1-Y).T @ np.log(1-Y_pred))))\n",
    "\n",
    "def calculate_cost_theta(X,Y,alpha,epochs):\n",
    "    theta = np.zeros(X.shape[1])                           # theta ----> 1 x n\n",
    "    m = len(X)\n",
    "    J = np.empty(epochs)\n",
    "    for i  in range(epochs):\n",
    "        z = X @ theta.T\n",
    "        Y_pred = sigmoid(z)                                      # Y_pred ------> m x 1\n",
    "        J[i] = calculate_cost(Y,Y_pred,m)                  \n",
    "        theta = theta - (alpha/m) * (X.T @ (Y_pred-Y))\n",
    "    return J,theta    \n"
   ]
  },
  {
   "cell_type": "code",
   "execution_count": 14,
   "metadata": {},
   "outputs": [
    {
     "data": {
      "image/png": "[encoded data removed]",
      "text/plain": [
       "<Figure size 432x288 with 1 Axes>"
      ]
     },
     "metadata": {
      "needs_background": "light"
     },
     "output_type": "display_data"
    }
   ],
   "source": [
    "epochs = 20000\n",
    "cost , theta = calculate_cost_theta(X_train,Y_train,0.05,epochs)\n",
    "plt.plot(np.arange(epochs),cost)\n",
    "plt.xlabel(\"Iterations\")\n",
    "plt.ylabel(\"Cost\")\n",
    "plt.show()\n"
   ]
  },
  {
   "cell_type": "code",
   "execution_count": 15,
   "metadata": {},
   "outputs": [
    {
     "name": "stdout",
     "output_type": "stream",
     "text": [
      "95.32163742690058\n"
     ]
    }
   ],
   "source": [
    "def calculate_accuracy(X_test,Y_test,theta):\n",
    "    y_pred_test = X_test @ theta.T\n",
    "    y_pred_test[y_pred_test >= 0.5] = 1\n",
    "    y_pred_test[y_pred_test < 0.5] = 0\n",
    "    check = y_pred_test == Y_test\n",
    "    true_count = np.count_nonzero(check)\n",
    "    accuracy = true_count/len(Y_test) *100\n",
    "    return accuracy\n",
    "\n",
    "accuracy = calculate_accuracy(X_test,Y_test,theta)\n",
    "print(accuracy)"
   ]
  }
 ],
 "metadata": {
  "kernelspec": {
   "display_name": "Python 3",
   "language": "python",
   "name": "python3"
  },
  "language_info": {
   "codemirror_mode": {
    "name": "ipython",
    "version": 3
   },
   "file_extension": ".py",
   "mimetype": "text/x-python",
   "name": "python",
   "nbconvert_exporter": "python",
   "pygments_lexer": "ipython3",
   "version": "3.7.4"
  }
 },
 "nbformat": 4,
 "nbformat_minor": 1
}
