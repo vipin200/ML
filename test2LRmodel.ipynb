{
 "nbformat": 4,
 "nbformat_minor": 2,
 "metadata": {
  "language_info": {
   "name": "python",
   "codemirror_mode": {
    "name": "ipython",
    "version": 3
   },
   "version": "3.7.4-final"
  },
  "orig_nbformat": 2,
  "file_extension": ".py",
  "mimetype": "text/x-python",
  "name": "python",
  "npconvert_exporter": "python",
  "pygments_lexer": "ipython3",
  "version": 3,
  "kernelspec": {
   "name": "python37464bitbasecondaf13dd9f84b2f40949f774b69a7ac8ffb",
   "display_name": "Python 3.7.4 64-bit ('base': conda)"
  }
 },
 "cells": [
  {
   "cell_type": "code",
   "execution_count": 12,
   "metadata": {},
   "outputs": [],
   "source": [
    "import pandas as pd\n",
    "import numpy as np \n",
    "from sklearn.model_selection import train_test_split\n",
    "from sklearn.linear_model import LinearRegression\n",
    "import matplotlib.pyplot as plt "
   ]
  },
  {
   "cell_type": "code",
   "execution_count": 13,
   "metadata": {},
   "outputs": [],
   "source": [
    "def normalize(X):\n",
    "    for i in range(X.shape[1]):\n",
    "        X[:,i] = (X[:,i] - np.min(X[:,i]))/(np.max(X[:,i]) - np.min(X[:,i]))\n",
    "    return X  \n",
    "def calc_rmse(y_pred,y_act):\n",
    "    n=len(y_act)\n",
    "    rmse = np.sqrt(np.sum(np.square(y_pred - y_act)) / n)\n",
    "    return rmse    \n",
    "data = pd.read_csv(\"abalone.csv\")\n",
    "X = data.iloc[:,:-1]\n",
    "y= data.iloc[:,-1]\n",
    "X = np.array(pd.get_dummies(X))\n",
    "X = normalize(X)\n",
    "X_train,X_test,y_train,y_test = train_test_split(X,y,test_size=0.2)"
   ]
  },
  {
   "cell_type": "code",
   "execution_count": 18,
   "metadata": {},
   "outputs": [
    {
     "output_type": "execute_result",
     "data": {
      "text/plain": "2.2458151604831302"
     },
     "metadata": {},
     "execution_count": 18
    }
   ],
   "source": [
    "reg = LinearRegression().fit(X, y)\n",
    "y_pred = reg.predict(X_test)\n",
    "rmse = calc_rmse(y_pred,y_test)\n",
    "rmse"
   ]
  }
 ]
}